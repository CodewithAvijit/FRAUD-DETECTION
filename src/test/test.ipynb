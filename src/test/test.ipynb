{
 "cells": [
  {
   "cell_type": "code",
   "execution_count": 19,
   "id": "40abe26b",
   "metadata": {},
   "outputs": [],
   "source": [
    "import pandas as pd\n",
    "import joblib \n",
    "import numpy as np"
   ]
  },
  {
   "cell_type": "code",
   "execution_count": 20,
   "id": "883f1bdf",
   "metadata": {},
   "outputs": [],
   "source": [
    "model=joblib.load(\"model.pkl\")"
   ]
  },
  {
   "cell_type": "code",
   "execution_count": 21,
   "id": "97a38e0f",
   "metadata": {},
   "outputs": [],
   "source": [
    "dict=joblib.load(r\"C:\\Users\\Avijit\\Desktop\\fraud_detection\\src\\test\\fraudterminaldict.pkl\")\n",
    "transactionid=int(input(\"ENTER THE TRANSACTION ID: \"))\n",
    "customerid=int(input(\"ENTER CUSTOMER ID: \"))\n",
    "day,month,year=map(int,input(\"ENTER TRANSACATION DATE: \").split())\n",
    "terminalid=int(input(\"ENTER THE TERMINAL ID: \"))\n",
    "amount=float(input(\"ENTER TRANSACTION AMOUT: \"))\n",
    "above220=1 if amount>220 else 0\n",
    "fraudscore=dict.get(terminalid,0)"
   ]
  },
  {
   "cell_type": "code",
   "execution_count": 22,
   "id": "633b93ed",
   "metadata": {},
   "outputs": [
    {
     "data": {
      "text/plain": [
       "array(['TRANSACTION_ID', 'CUSTOMER_ID', 'TX_YEAR', 'TX_MONTH', 'TX_DAY',\n",
       "       'TERMINAL_ID', 'TX_AMOUNT', 'ABOVE220', 'FRAUD_SCORE'],\n",
       "      dtype='<U14')"
      ]
     },
     "execution_count": 22,
     "metadata": {},
     "output_type": "execute_result"
    }
   ],
   "source": [
    "model.feature_names_in_\n"
   ]
  },
  {
   "cell_type": "code",
   "execution_count": 24,
   "id": "60636127",
   "metadata": {},
   "outputs": [
    {
     "name": "stdout",
     "output_type": "stream",
     "text": [
      "TRANSACTION ID:  1 \n",
      "CUSTOMER ID:  23 \n",
      "TRANSACATION DATE :  2 / 23 / 2019 \n",
      "TERMINAL ID:  1234 \n",
      "TRANSACTION AMOUT:  235.0\n",
      "TRANSACTION STATUS: FRAUDULENT TRANSACTION\n"
     ]
    }
   ],
   "source": [
    "value=np.array([[transactionid,customerid,day,month,year,terminalid,amount,above220,fraudscore]])\n",
    "result=model.predict(value)[0]\n",
    "print(\"TRANSACTION ID: \",transactionid,\"\\nCUSTOMER ID: \",customerid,\n",
    "      \"\\nTRANSACATION DATE : \",day,\"/\",month,\"/\",year,\n",
    "      \"\\nTERMINAL ID: \",terminalid,\n",
    "      \"\\nTRANSACTION AMOUT: \",amount)\n",
    "if result!=0:\n",
    "    print(\"TRANSACTION STATUS: FRAUDULENT TRANSACTION\")\n",
    "else:\n",
    "    print(\"TRANSACTION STATUS: LEGITIMATE TRANSACTION\")\n"
   ]
  }
 ],
 "metadata": {
  "kernelspec": {
   "display_name": ".venv",
   "language": "python",
   "name": "python3"
  },
  "language_info": {
   "codemirror_mode": {
    "name": "ipython",
    "version": 3
   },
   "file_extension": ".py",
   "mimetype": "text/x-python",
   "name": "python",
   "nbconvert_exporter": "python",
   "pygments_lexer": "ipython3",
   "version": "3.10.11"
  }
 },
 "nbformat": 4,
 "nbformat_minor": 5
}
